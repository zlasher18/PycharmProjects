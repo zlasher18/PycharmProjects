{
 "cells": [
  {
   "cell_type": "code",
   "execution_count": 18,
   "id": "8f375d4b",
   "metadata": {},
   "outputs": [],
   "source": [
    "import matplotlib.pyplot as plt\n",
    "import numpy as np\n",
    "\n",
    "# unconstrained function is distance between x2 and x3, and the point\n",
    "def function(x):\n",
    "    x2 = x[0]\n",
    "    x3 = x[1]\n",
    "    return ((-2 * x2 - 3 * x3 + 1) + 1) ** 2 + x2 ** 2 + (x3 - 1) ** 2\n",
    "\n",
    "\n",
    "def gradient(x):\n",
    "    x2 = x[0]\n",
    "    x3 = x[1]\n",
    "    return np.array([10 * x2 + 12 * x3 - 8, 20 * x3 + 12 * x2 - 14])\n",
    "\n",
    "def Hessian(x):\n",
    "    H = np.array([[10, 12], [12,20]])\n",
    "    return H\n"
   ]
  },
  {
   "cell_type": "code",
   "execution_count": 19,
   "id": "b4436862",
   "metadata": {},
   "outputs": [],
   "source": [
    "xinit = np.array([1, -1])  # initial guess\n",
    "g0 = np.array([-10, -22])  # gradient value at initial guess\n",
    "\n",
    "\n",
    "t = 0.5 # t lies between 0 and 1 so I just chose right in the middle\n",
    "\n",
    "\n",
    "def ils(x,alpha):  # ils=inexact line search-- outline of code given in class\n",
    "    phi = function(x) - t * gradient(x).T @ gradient(x) * alpha\n",
    "    if function(x - alpha * gradient(x)) > phi:\n",
    "        alpha = .5 * alpha\n",
    "        return ils(x, alpha)\n",
    "    else:\n",
    "        return alpha\n",
    "\n",
    "xlistgrad = [xinit]  # initializing the stored x value\n",
    "k = 0\n",
    "\n",
    "# gradient descent -- outline of code in Files on canvas\n",
    "while np.linalg.norm(gradient(xlistgrad[k])) > 0.000001:\n",
    "    xprev = xlistgrad[k]\n",
    "    alpha = 1\n",
    "    alpha = ils(xprev, alpha)\n",
    "    xnew = xprev - alpha * gradient(xprev)\n",
    "    xlistgrad.append(xnew)\n",
    "    k += 1\n"
   ]
  },
  {
   "cell_type": "code",
   "execution_count": 20,
   "id": "af384b8a",
   "metadata": {},
   "outputs": [
    {
     "name": "stdout",
     "output_type": "stream",
     "text": [
      "x1 = -1.071428520105548\n",
      "x2 = -0.14285677056719456\n",
      "x3 = 0.7857140204133124\n",
      "Initial guess for x2 and x3 are:[ 1 -1]\n"
     ]
    }
   ],
   "source": [
    "xx = xlistgrad[len(xlistgrad)-1]\n",
    "\n",
    "x2g = xx[0]\n",
    "x3g = xx[1]\n",
    "x1g = 1 - 2 * x2g - 3 * x3g\n",
    "print(\"x1 = \" + str(x1g))\n",
    "print(\"x2 = \" + str(x2g))\n",
    "print(\"x3 = \" + str(x3g))\n",
    "print(\"Initial guess for x2 and x3 are:\" + str(xinit))"
   ]
  },
  {
   "cell_type": "code",
   "execution_count": 21,
   "id": "f230f0b6",
   "metadata": {},
   "outputs": [],
   "source": [
    "# Newton's Method-- outline also in files on canvas\n",
    "xlistnewt = [xinit]\n",
    "k=0\n",
    "while np.linalg.norm(gradient(xlistnewt[k])) > 0.000001:\n",
    "    xprev = xlistnewt[k]\n",
    "    alpha = 1\n",
    "    xnew = xprev - alpha * np.linalg.solve(Hessian(xprev),gradient(xprev))\n",
    "    xlistnewt.append(xnew)\n",
    "    k += 1\n"
   ]
  },
  {
   "cell_type": "code",
   "execution_count": 22,
   "id": "ffc05a99",
   "metadata": {},
   "outputs": [
    {
     "name": "stdout",
     "output_type": "stream",
     "text": [
      "Using Newton's Method with same initial guess:\n",
      "x1 = -1.0714285714285712\n",
      "x2 = -0.14285714285714235\n",
      "x3 = 0.7857142857142854\n"
     ]
    }
   ],
   "source": [
    "xxn = xlistnewt[len(xlistnewt)-1]\n",
    "x2n = xxn[0]\n",
    "x3n = xxn[1]\n",
    "x1n = 1 - 2 * x2n - 3 * x3n\n",
    "print(\"Using Newton's Method with same initial guess:\")\n",
    "print(\"x1 = \" + str(x1n))\n",
    "print(\"x2 = \" + str(x2n))\n",
    "print(\"x3 = \" + str(x3n))\n"
   ]
  },
  {
   "cell_type": "code",
   "execution_count": 23,
   "id": "4283b46c",
   "metadata": {},
   "outputs": [
    {
     "data": {
      "image/png": "[encoded data removed]",
      "text/plain": [
       "<Figure size 432x288 with 1 Axes>"
      ]
     },
     "metadata": {
      "needs_background": "light"
     },
     "output_type": "display_data"
    }
   ],
   "source": [
    "# Finding and plotting the error. The Newton's Method is one step, so no need to plot that.\n",
    "xexact = np.array([-1/7 , 11/14])\n",
    "error = []\n",
    "for f in xlistgrad:\n",
    "    err = np.linalg.norm(f - xexact)\n",
    "    error.append(err)\n",
    "\n",
    "iterations = np.arange(1,len(xlistgrad)+1)\n",
    "\n",
    "plt.plot(iterations,error)\n",
    "plt.yscale('log')\n",
    "plt.show()\n"
   ]
  },
  {
   "cell_type": "code",
   "execution_count": null,
   "id": "d8b96565",
   "metadata": {},
   "outputs": [],
   "source": []
  },
  {
   "cell_type": "code",
   "execution_count": null,
   "id": "3d53e7bd",
   "metadata": {},
   "outputs": [],
   "source": []
  }
 ],
 "metadata": {
  "kernelspec": {
   "display_name": "Python 3 (ipykernel)",
   "language": "python",
   "name": "python3"
  },
  "language_info": {
   "codemirror_mode": {
    "name": "ipython",
    "version": 3
   },
   "file_extension": ".py",
   "mimetype": "text/x-python",
   "name": "python",
   "nbconvert_exporter": "python",
   "pygments_lexer": "ipython3",
   "version": "3.9.12"
  }
 },
 "nbformat": 4,
 "nbformat_minor": 5
}
